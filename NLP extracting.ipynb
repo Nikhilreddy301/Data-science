{
 "cells": [
  {
   "cell_type": "code",
   "execution_count": 1,
   "metadata": {},
   "outputs": [
    {
     "name": "stdout",
     "output_type": "stream",
     "text": [
      "Requirement already satisfied: PyPDF2 in c:\\users\\dell\\anaconda3\\lib\\site-packages (1.26.0)\n",
      "Note: you may need to restart the kernel to use updated packages.\n"
     ]
    }
   ],
   "source": [
    "pip install PyPDF2"
   ]
  },
  {
   "cell_type": "code",
   "execution_count": 2,
   "metadata": {},
   "outputs": [],
   "source": [
    "import os\n",
    "import PyPDF2\n",
    "from PyPDF2 import PdfFileMerger, PdfFileWriter, PdfFileReader"
   ]
  },
  {
   "cell_type": "code",
   "execution_count": 3,
   "metadata": {},
   "outputs": [
    {
     "data": {
      "text/plain": [
       "'C:\\\\Users\\\\Dell'"
      ]
     },
     "execution_count": 3,
     "metadata": {},
     "output_type": "execute_result"
    }
   ],
   "source": [
    "os.getcwd()"
   ]
  },
  {
   "cell_type": "code",
   "execution_count": 4,
   "metadata": {},
   "outputs": [
    {
     "name": "stderr",
     "output_type": "stream",
     "text": [
      "PdfReadWarning: Superfluous whitespace found in object header b'23' b'0' [pdf.py:1666]\n",
      "PdfReadWarning: Superfluous whitespace found in object header b'10' b'0' [pdf.py:1666]\n",
      "PdfReadWarning: Superfluous whitespace found in object header b'22' b'0' [pdf.py:1666]\n",
      "PdfReadWarning: Superfluous whitespace found in object header b'1' b'0' [pdf.py:1666]\n",
      "PdfReadWarning: Superfluous whitespace found in object header b'4' b'0' [pdf.py:1666]\n",
      "PdfReadWarning: Superfluous whitespace found in object header b'7' b'0' [pdf.py:1666]\n",
      "PdfReadWarning: Superfluous whitespace found in object header b'25' b'0' [pdf.py:1666]\n",
      "PdfReadWarning: Superfluous whitespace found in object header b'24' b'0' [pdf.py:1666]\n",
      "PdfReadWarning: Superfluous whitespace found in object header b'43' b'0' [pdf.py:1666]\n",
      "PdfReadWarning: Superfluous whitespace found in object header b'42' b'0' [pdf.py:1666]\n",
      "PdfReadWarning: Superfluous whitespace found in object header b'13' b'0' [pdf.py:1666]\n",
      "PdfReadWarning: Superfluous whitespace found in object header b'16' b'0' [pdf.py:1666]\n",
      "PdfReadWarning: Superfluous whitespace found in object header b'21' b'0' [pdf.py:1666]\n",
      "PdfReadWarning: Superfluous whitespace found in object header b'20' b'0' [pdf.py:1666]\n",
      "PdfReadWarning: Superfluous whitespace found in object header b'19' b'0' [pdf.py:1666]\n",
      "PdfReadWarning: Superfluous whitespace found in object header b'18' b'0' [pdf.py:1666]\n",
      "PdfReadWarning: Superfluous whitespace found in object header b'17' b'0' [pdf.py:1666]\n",
      "PdfReadWarning: Superfluous whitespace found in object header b'15' b'0' [pdf.py:1666]\n",
      "PdfReadWarning: Superfluous whitespace found in object header b'14' b'0' [pdf.py:1666]\n",
      "PdfReadWarning: Superfluous whitespace found in object header b'11' b'0' [pdf.py:1666]\n",
      "PdfReadWarning: Superfluous whitespace found in object header b'12' b'0' [pdf.py:1666]\n",
      "PdfReadWarning: Superfluous whitespace found in object header b'2' b'0' [pdf.py:1666]\n",
      "PdfReadWarning: Superfluous whitespace found in object header b'3' b'0' [pdf.py:1666]\n",
      "PdfReadWarning: Superfluous whitespace found in object header b'5' b'0' [pdf.py:1666]\n",
      "PdfReadWarning: Superfluous whitespace found in object header b'6' b'0' [pdf.py:1666]\n",
      "PdfReadWarning: Superfluous whitespace found in object header b'8' b'0' [pdf.py:1666]\n",
      "PdfReadWarning: Superfluous whitespace found in object header b'9' b'0' [pdf.py:1666]\n",
      "PdfReadWarning: Superfluous whitespace found in object header b'41' b'0' [pdf.py:1666]\n",
      "PdfReadWarning: Superfluous whitespace found in object header b'35' b'0' [pdf.py:1666]\n",
      "PdfReadWarning: Superfluous whitespace found in object header b'33' b'0' [pdf.py:1666]\n",
      "PdfReadWarning: Superfluous whitespace found in object header b'31' b'0' [pdf.py:1666]\n",
      "PdfReadWarning: Superfluous whitespace found in object header b'32' b'0' [pdf.py:1666]\n",
      "PdfReadWarning: Superfluous whitespace found in object header b'34' b'0' [pdf.py:1666]\n",
      "PdfReadWarning: Superfluous whitespace found in object header b'30' b'0' [pdf.py:1666]\n",
      "PdfReadWarning: Superfluous whitespace found in object header b'28' b'0' [pdf.py:1666]\n",
      "PdfReadWarning: Superfluous whitespace found in object header b'26' b'0' [pdf.py:1666]\n",
      "PdfReadWarning: Superfluous whitespace found in object header b'27' b'0' [pdf.py:1666]\n",
      "PdfReadWarning: Superfluous whitespace found in object header b'29' b'0' [pdf.py:1666]\n",
      "PdfReadWarning: Superfluous whitespace found in object header b'40' b'0' [pdf.py:1666]\n",
      "PdfReadWarning: Superfluous whitespace found in object header b'39' b'0' [pdf.py:1666]\n",
      "PdfReadWarning: Superfluous whitespace found in object header b'38' b'0' [pdf.py:1666]\n",
      "PdfReadWarning: Superfluous whitespace found in object header b'36' b'0' [pdf.py:1666]\n",
      "PdfReadWarning: Superfluous whitespace found in object header b'37' b'0' [pdf.py:1666]\n"
     ]
    }
   ],
   "source": [
    "def append_pdf(input,output):\n",
    "    [output.addPage(input.getPage(page_num)) for page_num in range(input.numPages)]\n",
    "\n",
    "output = PdfFileWriter()\n",
    "\n",
    "append_pdf(PdfFileReader(open(\"C:/Users/Dell/4bfdaea6cdbfd6f136ed9ad629573952 (2) (1).pdf\",\"rb\")),output)\n",
    "append_pdf(PdfFileReader(open(\"C:/Users/Dell/9b2ca71c4efa9b0ff91ffcaee034f460 (2) (1).pdf\",\"rb\")),output)\n",
    "append_pdf(PdfFileReader(open(\"C:/Users/Dell/9b347cfd5d99a62e9a9f51f50b4567b8 (5) (1).pdf\",\"rb\")),output)\n",
    "append_pdf(PdfFileReader(open(\"C:/Users/Dell/df70ba75b35162e34d7a6fabd983bb41 (2) (1).pdf\",\"rb\")),output)\n",
    "\n",
    "output.write(open(\"C:/Users/Dell/combined.pdf\",\"wb\"))"
   ]
  },
  {
   "cell_type": "code",
   "execution_count": 5,
   "metadata": {},
   "outputs": [],
   "source": [
    "combined= open(\"combined.pdf\",'rb') #binary mode"
   ]
  },
  {
   "cell_type": "code",
   "execution_count": 6,
   "metadata": {},
   "outputs": [],
   "source": [
    "pdfReader = PyPDF2.PdfFileReader(combined)"
   ]
  },
  {
   "cell_type": "code",
   "execution_count": 7,
   "metadata": {},
   "outputs": [
    {
     "data": {
      "text/plain": [
       "13"
      ]
     },
     "execution_count": 7,
     "metadata": {},
     "output_type": "execute_result"
    }
   ],
   "source": [
    "pdfReader.numPages"
   ]
  },
  {
   "cell_type": "code",
   "execution_count": 8,
   "metadata": {},
   "outputs": [],
   "source": [
    "result_list = []\n",
    "for i in range(7):\n",
    "    pageObj = pdfReader.getPage(i+1)       \n",
    "    result = pageObj.extractText()\n",
    "    result_list.append(result)"
   ]
  },
  {
   "cell_type": "code",
   "execution_count": 9,
   "metadata": {},
   "outputs": [],
   "source": [
    "import re\n",
    "import nltk\n",
    "import spacy\n",
    "from nltk.corpus import stopwords\n",
    "stop = stopwords.words('english')"
   ]
  },
  {
   "cell_type": "code",
   "execution_count": 10,
   "metadata": {},
   "outputs": [],
   "source": [
    "def ie_preprocess(document):\n",
    "    document = ' '.join([i for i in document if i not in stop])\n",
    "    sentences = nltk.sent_tokenize(document)\n",
    "    sentences = [nltk.word_tokenize(sent) for sent in sentences]\n",
    "    sentences = [nltk.pos_tag(sent) for sent in sentences]\n",
    "    return sentences"
   ]
  },
  {
   "cell_type": "code",
   "execution_count": 11,
   "metadata": {},
   "outputs": [],
   "source": [
    "def extract_names(document):\n",
    "    name=[]\n",
    "    sentences = ie_preprocess(document)\n",
    "    for tagged_sentence in sentences:\n",
    "        for chunk in nltk.ne_chunk(tagged_sentence):\n",
    "            if type(chunk) == nltk.tree.Tree:\n",
    "                if chunk.label() == 'PERSON':\n",
    "                    name.append(' '.join([c[0] for c in chunk]))\n",
    "    return name"
   ]
  },
  {
   "cell_type": "code",
   "execution_count": 12,
   "metadata": {},
   "outputs": [],
   "source": [
    "nlp = spacy.load('en_core_web_lg')   \n",
    "PERSONS_LIST = []\n",
    "for result in result_list:\n",
    "    sents = nlp(result) \n",
    "    PERSONS = [ee for ee in sents.ents if ee.label_ == 'PERSON'] \n",
    "    PERSONS_LIST.extend(PERSONS)\n",
    "    "
   ]
  },
  {
   "cell_type": "code",
   "execution_count": 13,
   "metadata": {},
   "outputs": [
    {
     "data": {
      "text/plain": [
       "[Rahul Navnath Chavhan, A. G. Deshingkar, Newasa, ˇˇ#\"]"
      ]
     },
     "execution_count": 13,
     "metadata": {},
     "output_type": "execute_result"
    }
   ],
   "source": [
    "PERSONS_LIST"
   ]
  },
  {
   "cell_type": "code",
   "execution_count": 29,
   "metadata": {},
   "outputs": [
    {
     "data": {
      "text/plain": [
       "'\\n\\n\\nˇˇˆ˙˝˛ ˛˙ˆ!ˇ\"˛#%!&&˜\\'\\n˚#˜()*ˆ+(˘!-˛ˇ/%012)\\n%/˜˘1˜\\n%!&\\'&˜\\n22)\\nˇ˜ˆ0ˇ˜304\\n#3˜˝!%ˇ53˘6ˆ!/˜˛˜(˜\\n+#\\n78ˇ09%9.;<=:<1\\n>˜˛&˜ˇ-˚#?ˆ##1˘!\\n# .˜6@˜?˜˜1˜\\n1\\n*ˆˇ˜;˘#˜4/ˇ˜ˆ0˝˛5˜˜\\n#˘˜ #10>0?&ˆC˜%4!\\n1˜@˜>ˇ˜\\n1\\n=˘%&˜˛\\nˇ˜ˆ˜)2\\n%!\\n\\nˇ˜ˆ#$?&B˜#/˛˘%˜8ˇ#1˛&%6\\nD\\n16\\n<1F6˚G#˛˜.ˇ˜ˆˆ1@˜ˆ˙\\n>>>ˇ/˜#1˜\\n\\nH8˜˛&#ˇ˜ˆ&ˇ1#˜\\n˜&ˇ#1#˘0ˇ˜ˆ8Iˆ?\\n˚#?ˆ##1˘!˜-ˇ-0˝5˜#˜#˜4\\nˇ%#ˆ˜8#ˇ \\n=\\n&ˇ1#0ˇ˜ˆ˝5˜1.˜\\n˜0&/!+6ˇ##%#\\n=\\n@˜ˆ˜)%ˇˇ#!˜9%>>ˇ6#ˇ˜ˆ\\n˜)9K)0&9\\n'"
      ]
     },
     "execution_count": 29,
     "metadata": {},
     "output_type": "execute_result"
    }
   ],
   "source": [
    "result_list[6]"
   ]
  },
  {
   "cell_type": "code",
   "execution_count": 15,
   "metadata": {},
   "outputs": [],
   "source": [
    "#sent = \"The Rahul Navnath Chavhan is pooja\\nconvicted vide N.N Patil 255(2) for the vidya balan \\npunishable u/s 66(1)/192 of the Motor Vehicles Act\\nand he is sentenced to pay fine of Rs. 2,000/-\\n(Rupees Two Thousands only) in default to suffer\\nr/i for 7 days.\"\n",
    "#sents = nlp(sent) \n",
    "#PERSONS = [ee for ee in sents.ents if ee.label_ == 'PERSON'] \n",
    "#print(PERSONS)"
   ]
  },
  {
   "cell_type": "code",
   "execution_count": 37,
   "metadata": {},
   "outputs": [
    {
     "ename": "CountryDetectionMissing",
     "evalue": "Detection rules for country \"INDIA\" not found.",
     "output_type": "error",
     "traceback": [
      "\u001b[1;31m---------------------------------------------------------------------------\u001b[0m",
      "\u001b[1;31mModuleNotFoundError\u001b[0m                       Traceback (most recent call last)",
      "\u001b[1;32m~\\Anaconda3\\lib\\site-packages\\pyap\\parser.py\u001b[0m in \u001b[0;36m__init__\u001b[1;34m(self, **args)\u001b[0m\n\u001b[0;32m     35\u001b[0m                 \u001b[1;34m'.data'\u001b[0m\u001b[1;33m\u001b[0m\u001b[1;33m\u001b[0m\u001b[0m\n\u001b[1;32m---> 36\u001b[1;33m             \u001b[0mdata\u001b[0m \u001b[1;33m=\u001b[0m \u001b[0mimportlib\u001b[0m\u001b[1;33m.\u001b[0m\u001b[0mimport_module\u001b[0m\u001b[1;33m(\u001b[0m\u001b[0mpackage\u001b[0m\u001b[1;33m)\u001b[0m\u001b[1;33m\u001b[0m\u001b[1;33m\u001b[0m\u001b[0m\n\u001b[0m\u001b[0;32m     37\u001b[0m             \u001b[0mself\u001b[0m\u001b[1;33m.\u001b[0m\u001b[0mrules\u001b[0m \u001b[1;33m=\u001b[0m \u001b[0mdata\u001b[0m\u001b[1;33m.\u001b[0m\u001b[0mfull_address\u001b[0m\u001b[1;33m\u001b[0m\u001b[1;33m\u001b[0m\u001b[0m\n",
      "\u001b[1;32m~\\Anaconda3\\lib\\importlib\\__init__.py\u001b[0m in \u001b[0;36mimport_module\u001b[1;34m(name, package)\u001b[0m\n\u001b[0;32m    126\u001b[0m             \u001b[0mlevel\u001b[0m \u001b[1;33m+=\u001b[0m \u001b[1;36m1\u001b[0m\u001b[1;33m\u001b[0m\u001b[1;33m\u001b[0m\u001b[0m\n\u001b[1;32m--> 127\u001b[1;33m     \u001b[1;32mreturn\u001b[0m \u001b[0m_bootstrap\u001b[0m\u001b[1;33m.\u001b[0m\u001b[0m_gcd_import\u001b[0m\u001b[1;33m(\u001b[0m\u001b[0mname\u001b[0m\u001b[1;33m[\u001b[0m\u001b[0mlevel\u001b[0m\u001b[1;33m:\u001b[0m\u001b[1;33m]\u001b[0m\u001b[1;33m,\u001b[0m \u001b[0mpackage\u001b[0m\u001b[1;33m,\u001b[0m \u001b[0mlevel\u001b[0m\u001b[1;33m)\u001b[0m\u001b[1;33m\u001b[0m\u001b[1;33m\u001b[0m\u001b[0m\n\u001b[0m\u001b[0;32m    128\u001b[0m \u001b[1;33m\u001b[0m\u001b[0m\n",
      "\u001b[1;32m~\\Anaconda3\\lib\\importlib\\_bootstrap.py\u001b[0m in \u001b[0;36m_gcd_import\u001b[1;34m(name, package, level)\u001b[0m\n",
      "\u001b[1;32m~\\Anaconda3\\lib\\importlib\\_bootstrap.py\u001b[0m in \u001b[0;36m_find_and_load\u001b[1;34m(name, import_)\u001b[0m\n",
      "\u001b[1;32m~\\Anaconda3\\lib\\importlib\\_bootstrap.py\u001b[0m in \u001b[0;36m_find_and_load_unlocked\u001b[1;34m(name, import_)\u001b[0m\n",
      "\u001b[1;32m~\\Anaconda3\\lib\\importlib\\_bootstrap.py\u001b[0m in \u001b[0;36m_call_with_frames_removed\u001b[1;34m(f, *args, **kwds)\u001b[0m\n",
      "\u001b[1;32m~\\Anaconda3\\lib\\importlib\\_bootstrap.py\u001b[0m in \u001b[0;36m_gcd_import\u001b[1;34m(name, package, level)\u001b[0m\n",
      "\u001b[1;32m~\\Anaconda3\\lib\\importlib\\_bootstrap.py\u001b[0m in \u001b[0;36m_find_and_load\u001b[1;34m(name, import_)\u001b[0m\n",
      "\u001b[1;32m~\\Anaconda3\\lib\\importlib\\_bootstrap.py\u001b[0m in \u001b[0;36m_find_and_load_unlocked\u001b[1;34m(name, import_)\u001b[0m\n",
      "\u001b[1;31mModuleNotFoundError\u001b[0m: No module named 'pyap.source_INDIA'",
      "\nDuring handling of the above exception, another exception occurred:\n",
      "\u001b[1;31mCountryDetectionMissing\u001b[0m                   Traceback (most recent call last)",
      "\u001b[1;32m<ipython-input-37-581a0d71093e>\u001b[0m in \u001b[0;36m<module>\u001b[1;34m\u001b[0m\n\u001b[0;32m      2\u001b[0m \u001b[1;33m\u001b[0m\u001b[0m\n\u001b[0;32m      3\u001b[0m \u001b[0mregexp\u001b[0m \u001b[1;33m=\u001b[0m \u001b[1;34m\"[0-9]{1,3} .+, .+, [A-Z]{2} [0-9]{5}\"\u001b[0m\u001b[1;33m\u001b[0m\u001b[1;33m\u001b[0m\u001b[0m\n\u001b[1;32m----> 4\u001b[1;33m \u001b[0maddress\u001b[0m \u001b[1;33m=\u001b[0m \u001b[0mpyap\u001b[0m\u001b[1;33m.\u001b[0m\u001b[0mparse\u001b[0m\u001b[1;33m(\u001b[0m\u001b[0mresult\u001b[0m\u001b[1;33m,\u001b[0m \u001b[0mcountry\u001b[0m\u001b[1;33m=\u001b[0m \u001b[1;34m'India'\u001b[0m\u001b[1;33m)\u001b[0m\u001b[1;33m\u001b[0m\u001b[1;33m\u001b[0m\u001b[0m\n\u001b[0m",
      "\u001b[1;32m~\\Anaconda3\\lib\\site-packages\\pyap\\api.py\u001b[0m in \u001b[0;36mparse\u001b[1;34m(some_text, **kwargs)\u001b[0m\n\u001b[0;32m     18\u001b[0m     \u001b[1;32mand\u001b[0m \u001b[0mreturns\u001b[0m \u001b[0mlist\u001b[0m \u001b[0mof\u001b[0m \u001b[0mAddress\u001b[0m \u001b[0mobjects\u001b[0m\u001b[1;33m\u001b[0m\u001b[1;33m\u001b[0m\u001b[0m\n\u001b[0;32m     19\u001b[0m     \"\"\"\n\u001b[1;32m---> 20\u001b[1;33m     \u001b[0map\u001b[0m \u001b[1;33m=\u001b[0m \u001b[0mparser\u001b[0m\u001b[1;33m.\u001b[0m\u001b[0mAddressParser\u001b[0m\u001b[1;33m(\u001b[0m\u001b[1;33m**\u001b[0m\u001b[0mkwargs\u001b[0m\u001b[1;33m)\u001b[0m\u001b[1;33m\u001b[0m\u001b[1;33m\u001b[0m\u001b[0m\n\u001b[0m\u001b[0;32m     21\u001b[0m     \u001b[1;32mreturn\u001b[0m \u001b[0map\u001b[0m\u001b[1;33m.\u001b[0m\u001b[0mparse\u001b[0m\u001b[1;33m(\u001b[0m\u001b[0msome_text\u001b[0m\u001b[1;33m)\u001b[0m\u001b[1;33m\u001b[0m\u001b[1;33m\u001b[0m\u001b[0m\n",
      "\u001b[1;32m~\\Anaconda3\\lib\\site-packages\\pyap\\parser.py\u001b[0m in \u001b[0;36m__init__\u001b[1;34m(self, **args)\u001b[0m\n\u001b[0;32m     45\u001b[0m             raise e.CountryDetectionMissing(\n\u001b[0;32m     46\u001b[0m                 \u001b[1;34m'Detection rules for country \"{country}\" not found.'\u001b[0m\u001b[1;33m.\u001b[0m\u001b[1;33m\u001b[0m\u001b[1;33m\u001b[0m\u001b[0m\n\u001b[1;32m---> 47\u001b[1;33m                 \u001b[0mformat\u001b[0m\u001b[1;33m(\u001b[0m\u001b[0mcountry\u001b[0m\u001b[1;33m=\u001b[0m\u001b[0mself\u001b[0m\u001b[1;33m.\u001b[0m\u001b[0mcountry\u001b[0m\u001b[1;33m)\u001b[0m\u001b[1;33m,\u001b[0m \u001b[1;34m'Error 2'\u001b[0m\u001b[1;33m\u001b[0m\u001b[1;33m\u001b[0m\u001b[0m\n\u001b[0m\u001b[0;32m     48\u001b[0m             )\n\u001b[0;32m     49\u001b[0m \u001b[1;33m\u001b[0m\u001b[0m\n",
      "\u001b[1;31mCountryDetectionMissing\u001b[0m: Detection rules for country \"INDIA\" not found."
     ]
    }
   ],
   "source": [
    "import re\n",
    "\n",
    "regexp = \"[0-9]{1,3} .+, .+, [A-Z]{2} [0-9]{5}\"\n",
    "address = pyap.parse(result, country= 'India')"
   ]
  },
  {
   "cell_type": "code",
   "execution_count": 21,
   "metadata": {},
   "outputs": [
    {
     "name": "stdout",
     "output_type": "stream",
     "text": [
      "[]\n"
     ]
    }
   ],
   "source": [
    "print(address)"
   ]
  },
  {
   "cell_type": "code",
   "execution_count": 32,
   "metadata": {},
   "outputs": [
    {
     "name": "stdout",
     "output_type": "stream",
     "text": [
      "Collecting pyap\n",
      "  Downloading https://files.pythonhosted.org/packages/a9/23/aba40258c6a9fbe73a177653b900d6e6a8ab5413e57bda3c3d32f5f1cbd0/pyap-0.2.0-py2.py3-none-any.whl (76kB)\n",
      "Installing collected packages: pyap\n",
      "Successfully installed pyap-0.2.0\n",
      "Note: you may need to restart the kernel to use updated packages.\n"
     ]
    }
   ],
   "source": [
    "pip install pyap"
   ]
  },
  {
   "cell_type": "code",
   "execution_count": 36,
   "metadata": {},
   "outputs": [],
   "source": [
    "import pyap"
   ]
  },
  {
   "cell_type": "code",
   "execution_count": null,
   "metadata": {},
   "outputs": [],
   "source": []
  }
 ],
 "metadata": {
  "kernelspec": {
   "display_name": "Python 3",
   "language": "python",
   "name": "python3"
  },
  "language_info": {
   "codemirror_mode": {
    "name": "ipython",
    "version": 3
   },
   "file_extension": ".py",
   "mimetype": "text/x-python",
   "name": "python",
   "nbconvert_exporter": "python",
   "pygments_lexer": "ipython3",
   "version": "3.7.3"
  }
 },
 "nbformat": 4,
 "nbformat_minor": 2
}
